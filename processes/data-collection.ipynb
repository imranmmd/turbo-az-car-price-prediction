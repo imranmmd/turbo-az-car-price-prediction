{
 "cells": [
  {
   "cell_type": "code",
   "execution_count": 210,
   "id": "92d445e6",
   "metadata": {},
   "outputs": [],
   "source": [
    "import requests\n",
    "import cloudscraper\n",
    "import csv\n",
    "from bs4 import BeautifulSoup\n",
    "import time"
   ]
  },
  {
   "cell_type": "code",
   "execution_count": 211,
   "id": "fdeec326",
   "metadata": {},
   "outputs": [],
   "source": [
    "scraper = cloudscraper.create_scraper()\n",
    "responses = []"
   ]
  },
  {
   "cell_type": "code",
   "execution_count": 212,
   "id": "45af9aaf",
   "metadata": {},
   "outputs": [],
   "source": [
    "for page in range(1, 50 + 1):\n",
    "    response = scraper.get(f\"https://turbo.az/autos?page={page}\")\n",
    "    responses.append(response)\n",
    "    time.sleep(5)"
   ]
  },
  {
   "cell_type": "code",
   "execution_count": 213,
   "id": "0409d6e0",
   "metadata": {},
   "outputs": [],
   "source": [
    "soups = []\n",
    "for response in responses:\n",
    "    soup = BeautifulSoup(response.text, 'html.parser')\n",
    "    soups.append(soup)"
   ]
  },
  {
   "cell_type": "code",
   "execution_count": 214,
   "id": "f85f0cc7",
   "metadata": {},
   "outputs": [],
   "source": [
    "with open(\"data/turbo-az-cars.csv\", mode=\"w\", newline=\"\", encoding=\"utf-8\") as file:\n",
    "    writer = csv.writer(file)\n",
    "    \n",
    "    # Write the header\n",
    "    writer.writerow([\"Car Name\", \"Attributes\", \"Price\", \"Currency\"])\n",
    "\n",
    "    # Iterate through each soup\n",
    "    for soup in soups:\n",
    "        for product_div in soup.find_all('div', class_='products-i vipped featured'):\n",
    "            item_div = product_div.find('div', class_='products-i__bottom')\n",
    "            if item_div:\n",
    "                price_div = item_div.find('div', class_='products-i__price products-i__bottom-text')\n",
    "                car_name = item_div.find('div', class_='products-i__name').text.strip()\n",
    "                car_attrs = item_div.find('div', class_='products-i__attributes').text.strip()\n",
    "                \n",
    "                if price_div:\n",
    "                    full_text = price_div.get_text(strip=True)\n",
    "                    currency_tag = price_div.find('span')\n",
    "                    currency = currency_tag.get_text(strip=True) if currency_tag else ''\n",
    "                    price = full_text.replace(currency, '').strip()\n",
    "                else:\n",
    "                    price = ''\n",
    "                    currency = ''\n",
    "\n",
    "                # Write the row to the CSV\n",
    "                writer.writerow([car_name, car_attrs, price, currency])\n"
   ]
  }
 ],
 "metadata": {
  "kernelspec": {
   "display_name": ".venv",
   "language": "python",
   "name": "python3"
  },
  "language_info": {
   "codemirror_mode": {
    "name": "ipython",
    "version": 3
   },
   "file_extension": ".py",
   "mimetype": "text/x-python",
   "name": "python",
   "nbconvert_exporter": "python",
   "pygments_lexer": "ipython3",
   "version": "3.13.3"
  }
 },
 "nbformat": 4,
 "nbformat_minor": 5
}
